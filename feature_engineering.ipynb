{
  "nbformat": 4,
  "nbformat_minor": 0,
  "metadata": {
    "kernelspec": {
      "display_name": "Python 3",
      "language": "python",
      "name": "python3"
    },
    "language_info": {
      "codemirror_mode": {
        "name": "ipython",
        "version": 3
      },
      "file_extension": ".py",
      "mimetype": "text/x-python",
      "name": "python",
      "nbconvert_exporter": "python",
      "pygments_lexer": "ipython3",
      "version": "3.7.6"
    },
    "colab": {
      "name": "main.ipynb",
      "provenance": [],
      "include_colab_link": true
    }
  },
  "cells": [
    {
      "cell_type": "markdown",
      "metadata": {
        "id": "view-in-github",
        "colab_type": "text"
      },
      "source": [
        "<a href=\"https://colab.research.google.com/github/Ismar-Vicente/DataScience/blob/master/feature_engineering.ipynb\" target=\"_parent\"><img src=\"https://colab.research.google.com/assets/colab-badge.svg\" alt=\"Open In Colab\"/></a>"
      ]
    },
    {
      "cell_type": "markdown",
      "metadata": {
        "id": "hft81JtbYB7O"
      },
      "source": [
        "# Desafio 6\n",
        "\n",
        "Neste desafio, vamos praticar _feature engineering_, um dos processos mais importantes e trabalhosos de ML. Utilizaremos o _data set_ [Countries of the world](https://www.kaggle.com/fernandol/countries-of-the-world), que contém dados sobre os 227 países do mundo com informações sobre tamanho da população, área, imigração e setores de produção.\n",
        "\n",
        "> Obs.: Por favor, não modifique o nome das funções de resposta."
      ]
    },
    {
      "cell_type": "markdown",
      "metadata": {
        "id": "fpQEhucJYB7T"
      },
      "source": [
        "## _Setup_ geral"
      ]
    },
    {
      "cell_type": "code",
      "metadata": {
        "id": "TBuirQQQYB7V"
      },
      "source": [
        "import pandas as pd\n",
        "import numpy as np\n",
        "import seaborn as sns\n",
        "import sklearn as sk\n",
        "\n",
        "from sklearn.datasets import load_digits, fetch_20newsgroups\n",
        "from sklearn.decomposition import PCA\n",
        "from sklearn.feature_extraction.text import (CountVectorizer, TfidfTransformer, TfidfVectorizer)\n",
        "from sklearn.impute import SimpleImputer\n",
        "from sklearn.pipeline import Pipeline\n",
        "from sklearn.preprocessing import (OneHotEncoder, Binarizer, KBinsDiscretizer,\n",
        "                                   MinMaxScaler, StandardScaler, PolynomialFeatures\n",
        ")"
      ],
      "execution_count": null,
      "outputs": []
    },
    {
      "cell_type": "code",
      "metadata": {
        "id": "o4jZBBbHYB7W"
      },
      "source": [
        "# Algumas configurações para o matplotlib.\n",
        "#%matplotlib inline\n",
        "\n",
        "from IPython.core.pylabtools import figsize\n",
        "\n",
        "\n",
        "figsize(12, 8)\n",
        "\n",
        "sns.set()"
      ],
      "execution_count": null,
      "outputs": []
    },
    {
      "cell_type": "code",
      "metadata": {
        "scrolled": false,
        "id": "vTe2CHIgYB7W"
      },
      "source": [
        "countries = pd.read_csv(\"countries.csv\", decimal=\",\")"
      ],
      "execution_count": null,
      "outputs": []
    },
    {
      "cell_type": "code",
      "metadata": {
        "id": "y8U5kMJ2YB7X",
        "outputId": "b406fd15-9b52-4495-9e27-192d4ea72dc3"
      },
      "source": [
        "new_column_names = [\n",
        "    \"Country\", \"Region\", \"Population\", \"Area\", \"Pop_density\", \"Coastline_ratio\",\n",
        "    \"Net_migration\", \"Infant_mortality\", \"GDP\", \"Literacy\", \"Phones_per_1000\",\n",
        "    \"Arable\", \"Crops\", \"Other\", \"Climate\", \"Birthrate\", \"Deathrate\", \"Agriculture\",\n",
        "    \"Industry\", \"Service\"\n",
        "]\n",
        "\n",
        "countries.columns = new_column_names\n",
        "\n",
        "countries.head(5)"
      ],
      "execution_count": null,
      "outputs": [
        {
          "output_type": "execute_result",
          "data": {
            "text/html": [
              "<div>\n",
              "<style scoped>\n",
              "    .dataframe tbody tr th:only-of-type {\n",
              "        vertical-align: middle;\n",
              "    }\n",
              "\n",
              "    .dataframe tbody tr th {\n",
              "        vertical-align: top;\n",
              "    }\n",
              "\n",
              "    .dataframe thead th {\n",
              "        text-align: right;\n",
              "    }\n",
              "</style>\n",
              "<table border=\"1\" class=\"dataframe\">\n",
              "  <thead>\n",
              "    <tr style=\"text-align: right;\">\n",
              "      <th></th>\n",
              "      <th>Country</th>\n",
              "      <th>Region</th>\n",
              "      <th>Population</th>\n",
              "      <th>Area</th>\n",
              "      <th>Pop_density</th>\n",
              "      <th>Coastline_ratio</th>\n",
              "      <th>Net_migration</th>\n",
              "      <th>Infant_mortality</th>\n",
              "      <th>GDP</th>\n",
              "      <th>Literacy</th>\n",
              "      <th>Phones_per_1000</th>\n",
              "      <th>Arable</th>\n",
              "      <th>Crops</th>\n",
              "      <th>Other</th>\n",
              "      <th>Climate</th>\n",
              "      <th>Birthrate</th>\n",
              "      <th>Deathrate</th>\n",
              "      <th>Agriculture</th>\n",
              "      <th>Industry</th>\n",
              "      <th>Service</th>\n",
              "    </tr>\n",
              "  </thead>\n",
              "  <tbody>\n",
              "    <tr>\n",
              "      <th>0</th>\n",
              "      <td>Afghanistan</td>\n",
              "      <td>ASIA (EX. NEAR EAST)</td>\n",
              "      <td>31056997</td>\n",
              "      <td>647500</td>\n",
              "      <td>48.0</td>\n",
              "      <td>0.00</td>\n",
              "      <td>23.06</td>\n",
              "      <td>163.07</td>\n",
              "      <td>700.0</td>\n",
              "      <td>36.0</td>\n",
              "      <td>3.2</td>\n",
              "      <td>12.13</td>\n",
              "      <td>0.22</td>\n",
              "      <td>87.65</td>\n",
              "      <td>1.0</td>\n",
              "      <td>46.60</td>\n",
              "      <td>20.34</td>\n",
              "      <td>0.380</td>\n",
              "      <td>0.240</td>\n",
              "      <td>0.380</td>\n",
              "    </tr>\n",
              "    <tr>\n",
              "      <th>1</th>\n",
              "      <td>Albania</td>\n",
              "      <td>EASTERN EUROPE</td>\n",
              "      <td>3581655</td>\n",
              "      <td>28748</td>\n",
              "      <td>124.6</td>\n",
              "      <td>1.26</td>\n",
              "      <td>-4.93</td>\n",
              "      <td>21.52</td>\n",
              "      <td>4500.0</td>\n",
              "      <td>86.5</td>\n",
              "      <td>71.2</td>\n",
              "      <td>21.09</td>\n",
              "      <td>4.42</td>\n",
              "      <td>74.49</td>\n",
              "      <td>3.0</td>\n",
              "      <td>15.11</td>\n",
              "      <td>5.22</td>\n",
              "      <td>0.232</td>\n",
              "      <td>0.188</td>\n",
              "      <td>0.579</td>\n",
              "    </tr>\n",
              "    <tr>\n",
              "      <th>2</th>\n",
              "      <td>Algeria</td>\n",
              "      <td>NORTHERN AFRICA</td>\n",
              "      <td>32930091</td>\n",
              "      <td>2381740</td>\n",
              "      <td>13.8</td>\n",
              "      <td>0.04</td>\n",
              "      <td>-0.39</td>\n",
              "      <td>31.00</td>\n",
              "      <td>6000.0</td>\n",
              "      <td>70.0</td>\n",
              "      <td>78.1</td>\n",
              "      <td>3.22</td>\n",
              "      <td>0.25</td>\n",
              "      <td>96.53</td>\n",
              "      <td>1.0</td>\n",
              "      <td>17.14</td>\n",
              "      <td>4.61</td>\n",
              "      <td>0.101</td>\n",
              "      <td>0.600</td>\n",
              "      <td>0.298</td>\n",
              "    </tr>\n",
              "    <tr>\n",
              "      <th>3</th>\n",
              "      <td>American Samoa</td>\n",
              "      <td>OCEANIA</td>\n",
              "      <td>57794</td>\n",
              "      <td>199</td>\n",
              "      <td>290.4</td>\n",
              "      <td>58.29</td>\n",
              "      <td>-20.71</td>\n",
              "      <td>9.27</td>\n",
              "      <td>8000.0</td>\n",
              "      <td>97.0</td>\n",
              "      <td>259.5</td>\n",
              "      <td>10.00</td>\n",
              "      <td>15.00</td>\n",
              "      <td>75.00</td>\n",
              "      <td>2.0</td>\n",
              "      <td>22.46</td>\n",
              "      <td>3.27</td>\n",
              "      <td>NaN</td>\n",
              "      <td>NaN</td>\n",
              "      <td>NaN</td>\n",
              "    </tr>\n",
              "    <tr>\n",
              "      <th>4</th>\n",
              "      <td>Andorra</td>\n",
              "      <td>WESTERN EUROPE</td>\n",
              "      <td>71201</td>\n",
              "      <td>468</td>\n",
              "      <td>152.1</td>\n",
              "      <td>0.00</td>\n",
              "      <td>6.60</td>\n",
              "      <td>4.05</td>\n",
              "      <td>19000.0</td>\n",
              "      <td>100.0</td>\n",
              "      <td>497.2</td>\n",
              "      <td>2.22</td>\n",
              "      <td>0.00</td>\n",
              "      <td>97.78</td>\n",
              "      <td>3.0</td>\n",
              "      <td>8.71</td>\n",
              "      <td>6.25</td>\n",
              "      <td>NaN</td>\n",
              "      <td>NaN</td>\n",
              "      <td>NaN</td>\n",
              "    </tr>\n",
              "  </tbody>\n",
              "</table>\n",
              "</div>"
            ],
            "text/plain": [
              "           Country                               Region  Population     Area  \\\n",
              "0     Afghanistan         ASIA (EX. NEAR EAST)             31056997   647500   \n",
              "1         Albania   EASTERN EUROPE                          3581655    28748   \n",
              "2         Algeria   NORTHERN AFRICA                        32930091  2381740   \n",
              "3  American Samoa   OCEANIA                                   57794      199   \n",
              "4         Andorra   WESTERN EUROPE                            71201      468   \n",
              "\n",
              "   Pop_density  Coastline_ratio  Net_migration  Infant_mortality      GDP  \\\n",
              "0         48.0             0.00          23.06            163.07    700.0   \n",
              "1        124.6             1.26          -4.93             21.52   4500.0   \n",
              "2         13.8             0.04          -0.39             31.00   6000.0   \n",
              "3        290.4            58.29         -20.71              9.27   8000.0   \n",
              "4        152.1             0.00           6.60              4.05  19000.0   \n",
              "\n",
              "   Literacy  Phones_per_1000  Arable  Crops  Other  Climate  Birthrate  \\\n",
              "0      36.0              3.2   12.13   0.22  87.65      1.0      46.60   \n",
              "1      86.5             71.2   21.09   4.42  74.49      3.0      15.11   \n",
              "2      70.0             78.1    3.22   0.25  96.53      1.0      17.14   \n",
              "3      97.0            259.5   10.00  15.00  75.00      2.0      22.46   \n",
              "4     100.0            497.2    2.22   0.00  97.78      3.0       8.71   \n",
              "\n",
              "   Deathrate  Agriculture  Industry  Service  \n",
              "0      20.34        0.380     0.240    0.380  \n",
              "1       5.22        0.232     0.188    0.579  \n",
              "2       4.61        0.101     0.600    0.298  \n",
              "3       3.27          NaN       NaN      NaN  \n",
              "4       6.25          NaN       NaN      NaN  "
            ]
          },
          "metadata": {
            "tags": []
          },
          "execution_count": 55
        }
      ]
    },
    {
      "cell_type": "code",
      "metadata": {
        "id": "zKH5jrRjYB7Z",
        "outputId": "b85dcfe0-ce0f-4460-91a8-6ebfe2759da3"
      },
      "source": [
        "countries.columns"
      ],
      "execution_count": null,
      "outputs": [
        {
          "output_type": "execute_result",
          "data": {
            "text/plain": [
              "Index(['Country', 'Region', 'Population', 'Area', 'Pop_density',\n",
              "       'Coastline_ratio', 'Net_migration', 'Infant_mortality', 'GDP',\n",
              "       'Literacy', 'Phones_per_1000', 'Arable', 'Crops', 'Other', 'Climate',\n",
              "       'Birthrate', 'Deathrate', 'Agriculture', 'Industry', 'Service'],\n",
              "      dtype='object')"
            ]
          },
          "metadata": {
            "tags": []
          },
          "execution_count": 56
        }
      ]
    },
    {
      "cell_type": "markdown",
      "metadata": {
        "id": "PBh8ByyHYB7a"
      },
      "source": [
        "## Observações\n",
        "\n",
        "Esse _data set_ ainda precisa de alguns ajustes iniciais. Primeiro, note que as variáveis numéricas estão usando vírgula como separador decimal e estão codificadas como strings. Corrija isso antes de continuar: transforme essas variáveis em numéricas adequadamente.\n",
        "\n",
        "Além disso, as variáveis `Country` e `Region` possuem espaços a mais no começo e no final da string. Você pode utilizar o método `str.strip()` para remover esses espaços."
      ]
    },
    {
      "cell_type": "markdown",
      "metadata": {
        "id": "C--qcd3MYB7a"
      },
      "source": [
        "## Inicia sua análise a partir daqui"
      ]
    },
    {
      "cell_type": "code",
      "metadata": {
        "id": "VwLslVhTYB7b"
      },
      "source": [
        "# Sua análise começa aqui.\n"
      ],
      "execution_count": null,
      "outputs": []
    },
    {
      "cell_type": "markdown",
      "metadata": {
        "id": "brZ56-BeYB7b"
      },
      "source": [
        "## Questão 1\n",
        "\n",
        "Quais são as regiões (variável `Region`) presentes no _data set_? Retorne uma lista com as regiões únicas do _data set_ com os espaços à frente e atrás da string removidos (mas mantenha pontuação: ponto, hífen etc) e ordenadas em ordem alfabética."
      ]
    },
    {
      "cell_type": "code",
      "metadata": {
        "id": "xMkeYp1UYB7c",
        "outputId": "7c066325-33f7-49d2-ec10-2b17b4f9d88c"
      },
      "source": [
        "countries.shape"
      ],
      "execution_count": null,
      "outputs": [
        {
          "output_type": "execute_result",
          "data": {
            "text/plain": [
              "(227, 20)"
            ]
          },
          "metadata": {
            "tags": []
          },
          "execution_count": 58
        }
      ]
    },
    {
      "cell_type": "code",
      "metadata": {
        "id": "_xz1baCyYB7d"
      },
      "source": [
        "def columnLen(column):\n",
        "    for i in column.head():\n",
        "        print(i +' - '+ str(len(i)) +' - '+ str(len(i.strip())))"
      ],
      "execution_count": null,
      "outputs": []
    },
    {
      "cell_type": "code",
      "metadata": {
        "id": "ZDfFvwtsYB7d"
      },
      "source": [
        "countries.Country = countries.Country.str.strip()\n",
        "countries.Region = countries.Region.str.strip()"
      ],
      "execution_count": null,
      "outputs": []
    },
    {
      "cell_type": "code",
      "metadata": {
        "id": "BVMieboQYB7d"
      },
      "source": [
        "def q1():\n",
        "    regions = countries.Region.unique()\n",
        "    regions.sort()\n",
        "    return list(regions)"
      ],
      "execution_count": null,
      "outputs": []
    },
    {
      "cell_type": "code",
      "metadata": {
        "id": "SXPq1O0LYB7e",
        "outputId": "d27ffc30-f0d7-4b6a-f17d-b1467f580f81"
      },
      "source": [
        "q1()"
      ],
      "execution_count": null,
      "outputs": [
        {
          "output_type": "execute_result",
          "data": {
            "text/plain": [
              "['ASIA (EX. NEAR EAST)',\n",
              " 'BALTICS',\n",
              " 'C.W. OF IND. STATES',\n",
              " 'EASTERN EUROPE',\n",
              " 'LATIN AMER. & CARIB',\n",
              " 'NEAR EAST',\n",
              " 'NORTHERN AFRICA',\n",
              " 'NORTHERN AMERICA',\n",
              " 'OCEANIA',\n",
              " 'SUB-SAHARAN AFRICA',\n",
              " 'WESTERN EUROPE']"
            ]
          },
          "metadata": {
            "tags": []
          },
          "execution_count": 62
        }
      ]
    },
    {
      "cell_type": "markdown",
      "metadata": {
        "id": "vwvBgGw_YB7e"
      },
      "source": [
        "## Questão 2\n",
        "\n",
        "Discretizando a variável `Pop_density` em 10 intervalos com `KBinsDiscretizer`, seguindo o encode `ordinal` e estratégia `quantile`, quantos países se encontram acima do 90º percentil? Responda como um único escalar inteiro."
      ]
    },
    {
      "cell_type": "code",
      "metadata": {
        "id": "5YquGrUpYB7f"
      },
      "source": [
        "discretizer = KBinsDiscretizer(n_bins=10, encode=\"ordinal\", strategy=\"quantile\")"
      ],
      "execution_count": null,
      "outputs": []
    },
    {
      "cell_type": "code",
      "metadata": {
        "id": "HYNF19mfYB7g",
        "outputId": "1d449f36-f66c-48d1-c20f-df3bbbb9fd53"
      },
      "source": [
        "discretizer.fit(countries[[\"Pop_density\"]])"
      ],
      "execution_count": null,
      "outputs": [
        {
          "output_type": "execute_result",
          "data": {
            "text/plain": [
              "KBinsDiscretizer(encode='ordinal', n_bins=10, strategy='quantile')"
            ]
          },
          "metadata": {
            "tags": []
          },
          "execution_count": 64
        }
      ]
    },
    {
      "cell_type": "code",
      "metadata": {
        "id": "HBDRR9RTYB7h"
      },
      "source": [
        "def q2():\n",
        "    discretizer = KBinsDiscretizer(n_bins=10, encode=\"ordinal\", strategy=\"quantile\")\n",
        "    discretizer.fit(countries[[\"Pop_density\"]])\n",
        "    pop_bins = discretizer.transform(countries[[\"Pop_density\"]])\n",
        "    edges = discretizer.bin_edges_\n",
        "    over90 = list(countries.query('Pop_density > @edges[0][9]')['Country'])\n",
        "    return len(over90)"
      ],
      "execution_count": null,
      "outputs": []
    },
    {
      "cell_type": "code",
      "metadata": {
        "id": "L7WW1Td0YB7h",
        "outputId": "34c0aa14-7bba-43f6-e11b-3cda55325c23"
      },
      "source": [
        "q2()"
      ],
      "execution_count": null,
      "outputs": [
        {
          "output_type": "execute_result",
          "data": {
            "text/plain": [
              "23"
            ]
          },
          "metadata": {
            "tags": []
          },
          "execution_count": 66
        }
      ]
    },
    {
      "cell_type": "markdown",
      "metadata": {
        "id": "azPPh538YB7i"
      },
      "source": [
        "# Questão 3\n",
        "\n",
        "Se codificarmos as variáveis `Region` e `Climate` usando _one-hot encoding_, quantos novos atributos seriam criados? Responda como um único escalar."
      ]
    },
    {
      "cell_type": "code",
      "metadata": {
        "id": "-SBSb2V4YB7i"
      },
      "source": [
        "def q3():\n",
        "    regions = pd.get_dummies(countries.Region)\n",
        "    climates = pd.get_dummies(countries.Climate, dummy_na=True)\n",
        "    return int(regions.shape[1] + climates.shape[1])"
      ],
      "execution_count": null,
      "outputs": []
    },
    {
      "cell_type": "code",
      "metadata": {
        "id": "CyKgbUmkYB7j",
        "outputId": "8b76cf7f-c0a4-481a-b692-ddf0157eaefd"
      },
      "source": [
        "q3()"
      ],
      "execution_count": null,
      "outputs": [
        {
          "output_type": "execute_result",
          "data": {
            "text/plain": [
              "18"
            ]
          },
          "metadata": {
            "tags": []
          },
          "execution_count": 68
        }
      ]
    },
    {
      "cell_type": "markdown",
      "metadata": {
        "id": "WdKqJfYwYB7j"
      },
      "source": [
        "## Questão 4\n",
        "\n",
        "Aplique o seguinte _pipeline_:\n",
        "\n",
        "1. Preencha as variáveis do tipo `int64` e `float64` com suas respectivas medianas.\n",
        "2. Padronize essas variáveis.\n",
        "\n",
        "Após aplicado o _pipeline_ descrito acima aos dados (somente nas variáveis dos tipos especificados), aplique o mesmo _pipeline_ (ou `ColumnTransformer`) ao dado abaixo. Qual o valor da variável `Arable` após o _pipeline_? Responda como um único float arredondado para três casas decimais."
      ]
    },
    {
      "cell_type": "code",
      "metadata": {
        "id": "X5_myXvXYB7k"
      },
      "source": [
        "test_country = [\n",
        "    'Test Country', 'NEAR EAST', -0.19032480757326514,\n",
        "    -0.3232636124824411, -0.04421734470810142, -0.27528113360605316,\n",
        "    0.13255850810281325, -0.8054845935643491, 1.0119784924248225,\n",
        "    0.6189182532646624, 1.0074863283776458, 0.20239896852403538,\n",
        "    -0.043678728558593366, -0.13929748680369286, 1.3163604645710438,\n",
        "    -0.3699637766938669, -0.6149300604558857, -0.854369594993175,\n",
        "    0.263445277972641, 0.5712416961268142\n",
        "]"
      ],
      "execution_count": null,
      "outputs": []
    },
    {
      "cell_type": "code",
      "metadata": {
        "id": "XXFLrJmtYB7k"
      },
      "source": [
        "def q4():\n",
        "    pipe = Pipeline(steps=[\n",
        "        (\"imputer\", SimpleImputer(strategy=\"median\")),\n",
        "        (\"minmax_scaler\", StandardScaler())\n",
        "    ])\n",
        "    \n",
        "    dtypes = pd.DataFrame(countries.dtypes).reset_index()\n",
        "    dtypes.columns = ['Column', 'Dtype']\n",
        "    numeros = list(dtypes.loc[dtypes['Dtype'] != 'object']['Column'])\n",
        "    dfq4 = countries[numeros]\n",
        "    \n",
        "    test = pd.DataFrame([test_country])\n",
        "    \n",
        "    pipe.fit(dfq4)\n",
        "    testTransf = pipe.transform(test.iloc[:, 2:])\n",
        "    \n",
        "    return float(testTransf[0][dfq4.columns.get_loc(\"Arable\")].round(3))"
      ],
      "execution_count": null,
      "outputs": []
    },
    {
      "cell_type": "code",
      "metadata": {
        "id": "nN9_8WJNYB7l",
        "outputId": "11c84ecb-d9ed-4fad-f793-f90b18236344"
      },
      "source": [
        "q4()"
      ],
      "execution_count": null,
      "outputs": [
        {
          "output_type": "execute_result",
          "data": {
            "text/plain": [
              "-1.047"
            ]
          },
          "metadata": {
            "tags": []
          },
          "execution_count": 75
        }
      ]
    },
    {
      "cell_type": "markdown",
      "metadata": {
        "id": "9MyOs2nFYB7l"
      },
      "source": [
        "## Questão 5\n",
        "\n",
        "Descubra o número de _outliers_ da variável `Net_migration` segundo o método do _boxplot_, ou seja, usando a lógica:\n",
        "\n",
        "$$x \\notin [Q1 - 1.5 \\times \\text{IQR}, Q3 + 1.5 \\times \\text{IQR}] \\Rightarrow x \\text{ é outlier}$$\n",
        "\n",
        "que se encontram no grupo inferior e no grupo superior.\n",
        "\n",
        "Você deveria remover da análise as observações consideradas _outliers_ segundo esse método? Responda como uma tupla de três elementos `(outliers_abaixo, outliers_acima, removeria?)` ((int, int, bool))."
      ]
    },
    {
      "cell_type": "code",
      "metadata": {
        "id": "W5v0doJPYB7m"
      },
      "source": [
        "def q5():\n",
        "    q1 = countries.Net_migration.quantile(0.25)\n",
        "    q3 = countries.Net_migration.quantile(0.75)\n",
        "    iqr = q3 - q1\n",
        "    non_outlier_interval_iqr = [q1 - 1.5 * iqr, q3 + 1.5 * iqr]\n",
        "    \n",
        "    outliers_abaixo = countries.Net_migration[(countries.Net_migration < non_outlier_interval_iqr[0])]\n",
        "    outliers_acima = countries.Net_migration[(countries.Net_migration > non_outlier_interval_iqr[1])]\n",
        "    \n",
        "    dropOutliers = ((outliers_abaixo.shape[0] + outliers_acima.shape[0]) / countries.Net_migration.shape[0]) < 0.2    \n",
        "    \n",
        "    return outliers_abaixo.shape[0], outliers_acima.shape[0], dropOutliers"
      ],
      "execution_count": null,
      "outputs": []
    },
    {
      "cell_type": "code",
      "metadata": {
        "id": "ndRYEW7tYB7m",
        "outputId": "6cfb3f99-b14c-4398-b2c4-3b570ddb76a4"
      },
      "source": [
        "q5()"
      ],
      "execution_count": null,
      "outputs": [
        {
          "output_type": "execute_result",
          "data": {
            "text/plain": [
              "(24, 26, False)"
            ]
          },
          "metadata": {
            "tags": []
          },
          "execution_count": 77
        }
      ]
    },
    {
      "cell_type": "markdown",
      "metadata": {
        "id": "PaxknAPIYB7n"
      },
      "source": [
        "## Questão 6\n",
        "Para as questões 6 e 7 utilize a biblioteca `fetch_20newsgroups` de datasets de test do `sklearn`\n",
        "\n",
        "Considere carregar as seguintes categorias e o dataset `newsgroups`:\n",
        "\n",
        "```\n",
        "categories = ['sci.electronics', 'comp.graphics', 'rec.motorcycles']\n",
        "newsgroup = fetch_20newsgroups(subset=\"train\", categories=categories, shuffle=True, random_state=42)\n",
        "```\n",
        "\n",
        "\n",
        "Aplique `CountVectorizer` ao _data set_ `newsgroups` e descubra o número de vezes que a palavra _phone_ aparece no corpus. Responda como um único escalar."
      ]
    },
    {
      "cell_type": "code",
      "metadata": {
        "id": "wAhH-bJ8YB7n",
        "outputId": "0c34ae03-1f4f-4a19-b150-4b0343c0b41e"
      },
      "source": [
        "categories = ['sci.electronics', 'comp.graphics', 'rec.motorcycles']\n",
        "newsgroups = fetch_20newsgroups(subset=\"train\", categories=categories, shuffle=True, random_state=42)"
      ],
      "execution_count": null,
      "outputs": [
        {
          "output_type": "stream",
          "text": [
            "Downloading 20news dataset. This may take a few minutes.\n",
            "Downloading dataset from https://ndownloader.figshare.com/files/5975967 (14 MB)\n"
          ],
          "name": "stderr"
        }
      ]
    },
    {
      "cell_type": "code",
      "metadata": {
        "id": "5GGzLLcCYB7o"
      },
      "source": [
        "def q6():\n",
        "    count_vectorizer = CountVectorizer()\n",
        "    newsgroups_counts = count_vectorizer.fit_transform(newsgroups.data)\n",
        "    return int(newsgroups_counts[:, count_vectorizer.vocabulary_.get('phone')].sum())"
      ],
      "execution_count": null,
      "outputs": []
    },
    {
      "cell_type": "code",
      "metadata": {
        "id": "FT9SQnXZYB7s",
        "outputId": "8c655f22-449c-45bc-9d18-b27dd125a42a"
      },
      "source": [
        "q6()"
      ],
      "execution_count": null,
      "outputs": [
        {
          "output_type": "execute_result",
          "data": {
            "text/plain": [
              "213"
            ]
          },
          "metadata": {
            "tags": []
          },
          "execution_count": 80
        }
      ]
    },
    {
      "cell_type": "markdown",
      "metadata": {
        "id": "0mumPFvoYB7t"
      },
      "source": [
        "## Questão 7\n",
        "\n",
        "Aplique `TfidfVectorizer` ao _data set_ `newsgroups` e descubra o TF-IDF da palavra _phone_. Responda como um único escalar arredondado para três casas decimais."
      ]
    },
    {
      "cell_type": "code",
      "metadata": {
        "id": "cTfNduX1YB7t"
      },
      "source": [
        "def q7():\n",
        "    tfidf_vectorizer = TfidfVectorizer()\n",
        "    tfidf_vector = tfidf_vectorizer.fit_transform(newsgroups.data)\n",
        "    return float(tfidf_vector[:, tfidf_vectorizer.vocabulary_['phone']].sum().round(3))"
      ],
      "execution_count": null,
      "outputs": []
    },
    {
      "cell_type": "code",
      "metadata": {
        "id": "JgYraGLXYB7u",
        "outputId": "94bb6707-94f0-4836-f719-5bbcfc071f0d"
      },
      "source": [
        "q7()"
      ],
      "execution_count": null,
      "outputs": [
        {
          "output_type": "execute_result",
          "data": {
            "text/plain": [
              "8.888"
            ]
          },
          "metadata": {
            "tags": []
          },
          "execution_count": 82
        }
      ]
    },
    {
      "cell_type": "code",
      "metadata": {
        "id": "WKeNbOdPYB7u"
      },
      "source": [
        ""
      ],
      "execution_count": null,
      "outputs": []
    }
  ]
}